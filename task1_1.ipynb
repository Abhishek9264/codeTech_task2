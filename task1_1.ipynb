{
  "nbformat": 4,
  "nbformat_minor": 0,
  "metadata": {
    "colab": {
      "provenance": []
    },
    "kernelspec": {
      "name": "python3",
      "display_name": "Python 3"
    },
    "language_info": {
      "name": "python"
    }
  },
  "cells": [
    {
      "cell_type": "code",
      "source": [
        "import pandas as pd\n",
        "import numpy as np\n",
        "from sklearn.model_selection import train_test_split\n",
        "from sklearn.preprocessing import StandardScaler\n",
        "from sklearn.linear_model import LogisticRegression\n",
        "from sklearn.tree import DecisionTreeClassifier\n",
        "from sklearn.ensemble import RandomForestClassifier\n",
        "from sklearn.svm import SVC\n",
        "from sklearn.metrics import accuracy_score, precision_score, recall_score, f1_score, classification_report\n",
        "import matplotlib.pyplot as plt\n",
        "import seaborn as sns\n"
      ],
      "metadata": {
        "id": "saHaeX0nr-Y2"
      },
      "execution_count": 10,
      "outputs": []
    },
    {
      "cell_type": "code",
      "source": [
        "from sklearn.datasets import load_breast_cancer\n",
        "data = load_breast_cancer()\n",
        "\n",
        "# Create a DataFrame\n",
        "df = pd.DataFrame(data.data, columns=data.feature_names)\n",
        "df['target'] = data.target\n",
        "\n",
        "# Display basic information\n",
        "print(df.head())\n",
        "\n"
      ],
      "metadata": {
        "colab": {
          "base_uri": "https://localhost:8080/"
        },
        "id": "BHPIN98NsAue",
        "outputId": "b164603b-2ac4-4bc0-9e0e-027450846511"
      },
      "execution_count": 11,
      "outputs": [
        {
          "output_type": "stream",
          "name": "stdout",
          "text": [
            "   mean radius  mean texture  mean perimeter  mean area  mean smoothness  \\\n",
            "0        17.99         10.38          122.80     1001.0          0.11840   \n",
            "1        20.57         17.77          132.90     1326.0          0.08474   \n",
            "2        19.69         21.25          130.00     1203.0          0.10960   \n",
            "3        11.42         20.38           77.58      386.1          0.14250   \n",
            "4        20.29         14.34          135.10     1297.0          0.10030   \n",
            "\n",
            "   mean compactness  mean concavity  mean concave points  mean symmetry  \\\n",
            "0           0.27760          0.3001              0.14710         0.2419   \n",
            "1           0.07864          0.0869              0.07017         0.1812   \n",
            "2           0.15990          0.1974              0.12790         0.2069   \n",
            "3           0.28390          0.2414              0.10520         0.2597   \n",
            "4           0.13280          0.1980              0.10430         0.1809   \n",
            "\n",
            "   mean fractal dimension  ...  worst texture  worst perimeter  worst area  \\\n",
            "0                 0.07871  ...          17.33           184.60      2019.0   \n",
            "1                 0.05667  ...          23.41           158.80      1956.0   \n",
            "2                 0.05999  ...          25.53           152.50      1709.0   \n",
            "3                 0.09744  ...          26.50            98.87       567.7   \n",
            "4                 0.05883  ...          16.67           152.20      1575.0   \n",
            "\n",
            "   worst smoothness  worst compactness  worst concavity  worst concave points  \\\n",
            "0            0.1622             0.6656           0.7119                0.2654   \n",
            "1            0.1238             0.1866           0.2416                0.1860   \n",
            "2            0.1444             0.4245           0.4504                0.2430   \n",
            "3            0.2098             0.8663           0.6869                0.2575   \n",
            "4            0.1374             0.2050           0.4000                0.1625   \n",
            "\n",
            "   worst symmetry  worst fractal dimension  target  \n",
            "0          0.4601                  0.11890       0  \n",
            "1          0.2750                  0.08902       0  \n",
            "2          0.3613                  0.08758       0  \n",
            "3          0.6638                  0.17300       0  \n",
            "4          0.2364                  0.07678       0  \n",
            "\n",
            "[5 rows x 31 columns]\n"
          ]
        }
      ]
    },
    {
      "cell_type": "code",
      "source": [
        "print(df.describe())\n"
      ],
      "metadata": {
        "colab": {
          "base_uri": "https://localhost:8080/"
        },
        "id": "HZElzQUwsp0h",
        "outputId": "27a852ad-f52f-412e-b824-aa02d4457f13"
      },
      "execution_count": 12,
      "outputs": [
        {
          "output_type": "stream",
          "name": "stdout",
          "text": [
            "       mean radius  mean texture  mean perimeter    mean area  \\\n",
            "count   569.000000    569.000000      569.000000   569.000000   \n",
            "mean     14.127292     19.289649       91.969033   654.889104   \n",
            "std       3.524049      4.301036       24.298981   351.914129   \n",
            "min       6.981000      9.710000       43.790000   143.500000   \n",
            "25%      11.700000     16.170000       75.170000   420.300000   \n",
            "50%      13.370000     18.840000       86.240000   551.100000   \n",
            "75%      15.780000     21.800000      104.100000   782.700000   \n",
            "max      28.110000     39.280000      188.500000  2501.000000   \n",
            "\n",
            "       mean smoothness  mean compactness  mean concavity  mean concave points  \\\n",
            "count       569.000000        569.000000      569.000000           569.000000   \n",
            "mean          0.096360          0.104341        0.088799             0.048919   \n",
            "std           0.014064          0.052813        0.079720             0.038803   \n",
            "min           0.052630          0.019380        0.000000             0.000000   \n",
            "25%           0.086370          0.064920        0.029560             0.020310   \n",
            "50%           0.095870          0.092630        0.061540             0.033500   \n",
            "75%           0.105300          0.130400        0.130700             0.074000   \n",
            "max           0.163400          0.345400        0.426800             0.201200   \n",
            "\n",
            "       mean symmetry  mean fractal dimension  ...  worst texture  \\\n",
            "count     569.000000              569.000000  ...     569.000000   \n",
            "mean        0.181162                0.062798  ...      25.677223   \n",
            "std         0.027414                0.007060  ...       6.146258   \n",
            "min         0.106000                0.049960  ...      12.020000   \n",
            "25%         0.161900                0.057700  ...      21.080000   \n",
            "50%         0.179200                0.061540  ...      25.410000   \n",
            "75%         0.195700                0.066120  ...      29.720000   \n",
            "max         0.304000                0.097440  ...      49.540000   \n",
            "\n",
            "       worst perimeter   worst area  worst smoothness  worst compactness  \\\n",
            "count       569.000000   569.000000        569.000000         569.000000   \n",
            "mean        107.261213   880.583128          0.132369           0.254265   \n",
            "std          33.602542   569.356993          0.022832           0.157336   \n",
            "min          50.410000   185.200000          0.071170           0.027290   \n",
            "25%          84.110000   515.300000          0.116600           0.147200   \n",
            "50%          97.660000   686.500000          0.131300           0.211900   \n",
            "75%         125.400000  1084.000000          0.146000           0.339100   \n",
            "max         251.200000  4254.000000          0.222600           1.058000   \n",
            "\n",
            "       worst concavity  worst concave points  worst symmetry  \\\n",
            "count       569.000000            569.000000      569.000000   \n",
            "mean          0.272188              0.114606        0.290076   \n",
            "std           0.208624              0.065732        0.061867   \n",
            "min           0.000000              0.000000        0.156500   \n",
            "25%           0.114500              0.064930        0.250400   \n",
            "50%           0.226700              0.099930        0.282200   \n",
            "75%           0.382900              0.161400        0.317900   \n",
            "max           1.252000              0.291000        0.663800   \n",
            "\n",
            "       worst fractal dimension      target  \n",
            "count               569.000000  569.000000  \n",
            "mean                  0.083946    0.627417  \n",
            "std                   0.018061    0.483918  \n",
            "min                   0.055040    0.000000  \n",
            "25%                   0.071460    0.000000  \n",
            "50%                   0.080040    1.000000  \n",
            "75%                   0.092080    1.000000  \n",
            "max                   0.207500    1.000000  \n",
            "\n",
            "[8 rows x 31 columns]\n"
          ]
        }
      ]
    },
    {
      "cell_type": "code",
      "source": [
        "print(df['target'].value_counts())"
      ],
      "metadata": {
        "colab": {
          "base_uri": "https://localhost:8080/"
        },
        "id": "G1w7hhIjsuDX",
        "outputId": "93ecb3c6-f98a-4478-f4d1-3fd871e184aa"
      },
      "execution_count": 13,
      "outputs": [
        {
          "output_type": "stream",
          "name": "stdout",
          "text": [
            "target\n",
            "1    357\n",
            "0    212\n",
            "Name: count, dtype: int64\n"
          ]
        }
      ]
    },
    {
      "cell_type": "code",
      "source": [
        "# Check for missing values\n",
        "print(df.isnull().sum())\n",
        "\n",
        "# Feature scaling\n",
        "X = df.drop('target', axis=1)\n",
        "y = df['target']\n",
        "\n",
        "scaler = StandardScaler()\n",
        "X_scaled = scaler.fit_transform(X)\n"
      ],
      "metadata": {
        "colab": {
          "base_uri": "https://localhost:8080/"
        },
        "id": "9hOtOVqisEcW",
        "outputId": "068d36ca-9b0f-49d3-bce7-1bcb99c05f81"
      },
      "execution_count": 14,
      "outputs": [
        {
          "output_type": "stream",
          "name": "stdout",
          "text": [
            "mean radius                0\n",
            "mean texture               0\n",
            "mean perimeter             0\n",
            "mean area                  0\n",
            "mean smoothness            0\n",
            "mean compactness           0\n",
            "mean concavity             0\n",
            "mean concave points        0\n",
            "mean symmetry              0\n",
            "mean fractal dimension     0\n",
            "radius error               0\n",
            "texture error              0\n",
            "perimeter error            0\n",
            "area error                 0\n",
            "smoothness error           0\n",
            "compactness error          0\n",
            "concavity error            0\n",
            "concave points error       0\n",
            "symmetry error             0\n",
            "fractal dimension error    0\n",
            "worst radius               0\n",
            "worst texture              0\n",
            "worst perimeter            0\n",
            "worst area                 0\n",
            "worst smoothness           0\n",
            "worst compactness          0\n",
            "worst concavity            0\n",
            "worst concave points       0\n",
            "worst symmetry             0\n",
            "worst fractal dimension    0\n",
            "target                     0\n",
            "dtype: int64\n"
          ]
        }
      ]
    },
    {
      "cell_type": "code",
      "source": [
        "X_train, X_test, y_train, y_test = train_test_split(X_scaled, y, test_size=0.3, random_state=42)\n"
      ],
      "metadata": {
        "id": "S4EIz6KbsFjq"
      },
      "execution_count": 15,
      "outputs": []
    },
    {
      "cell_type": "code",
      "source": [
        "log_reg = LogisticRegression()\n",
        "log_reg.fit(X_train, y_train)\n",
        "y_pred_log_reg = log_reg.predict(X_test)\n",
        "\n",
        "# Evaluate\n",
        "print(\"Logistic Regression:\")\n",
        "print(classification_report(y_test, y_pred_log_reg))\n"
      ],
      "metadata": {
        "colab": {
          "base_uri": "https://localhost:8080/"
        },
        "id": "cm2h7wcJsHn6",
        "outputId": "cd214284-8226-4b4a-cdab-e4f82cff9ba6"
      },
      "execution_count": 16,
      "outputs": [
        {
          "output_type": "stream",
          "name": "stdout",
          "text": [
            "Logistic Regression:\n",
            "              precision    recall  f1-score   support\n",
            "\n",
            "           0       0.97      0.98      0.98        63\n",
            "           1       0.99      0.98      0.99       108\n",
            "\n",
            "    accuracy                           0.98       171\n",
            "   macro avg       0.98      0.98      0.98       171\n",
            "weighted avg       0.98      0.98      0.98       171\n",
            "\n"
          ]
        }
      ]
    },
    {
      "cell_type": "code",
      "source": [
        "tree = DecisionTreeClassifier()\n",
        "tree.fit(X_train, y_train)\n",
        "y_pred_tree = tree.predict(X_test)\n",
        "\n",
        "# Evaluate\n",
        "print(\"Decision Tree:\")\n",
        "print(classification_report(y_test, y_pred_tree))\n"
      ],
      "metadata": {
        "colab": {
          "base_uri": "https://localhost:8080/"
        },
        "id": "AA-CWw4ZsKt2",
        "outputId": "21130280-1eca-4a0e-edd5-9b661844dacd"
      },
      "execution_count": 17,
      "outputs": [
        {
          "output_type": "stream",
          "name": "stdout",
          "text": [
            "Decision Tree:\n",
            "              precision    recall  f1-score   support\n",
            "\n",
            "           0       0.86      0.95      0.90        63\n",
            "           1       0.97      0.91      0.94       108\n",
            "\n",
            "    accuracy                           0.92       171\n",
            "   macro avg       0.91      0.93      0.92       171\n",
            "weighted avg       0.93      0.92      0.92       171\n",
            "\n"
          ]
        }
      ]
    },
    {
      "cell_type": "code",
      "source": [
        "forest = RandomForestClassifier(n_estimators=100, random_state=42)\n",
        "forest.fit(X_train, y_train)\n",
        "y_pred_forest = forest.predict(X_test)\n",
        "\n",
        "# Evaluate\n",
        "print(\"Random Forest:\")\n",
        "print(classification_report(y_test, y_pred_forest))\n"
      ],
      "metadata": {
        "colab": {
          "base_uri": "https://localhost:8080/"
        },
        "id": "jepNPjCAsKwU",
        "outputId": "552e20dd-00f4-4b82-ee7a-3f068d29afa2"
      },
      "execution_count": 18,
      "outputs": [
        {
          "output_type": "stream",
          "name": "stdout",
          "text": [
            "Random Forest:\n",
            "              precision    recall  f1-score   support\n",
            "\n",
            "           0       0.98      0.94      0.96        63\n",
            "           1       0.96      0.99      0.98       108\n",
            "\n",
            "    accuracy                           0.97       171\n",
            "   macro avg       0.97      0.96      0.97       171\n",
            "weighted avg       0.97      0.97      0.97       171\n",
            "\n"
          ]
        }
      ]
    },
    {
      "cell_type": "code",
      "source": [
        "svm = SVC()\n",
        "svm.fit(X_train, y_train)\n",
        "y_pred_svm = svm.predict(X_test)\n",
        "\n",
        "# Evaluate\n",
        "print(\"Support Vector Machine:\")\n",
        "print(classification_report(y_test, y_pred_svm))\n"
      ],
      "metadata": {
        "colab": {
          "base_uri": "https://localhost:8080/"
        },
        "id": "NG-HJU3BsKyf",
        "outputId": "2ff60198-caa1-4c37-82cb-443714e61fe9"
      },
      "execution_count": 19,
      "outputs": [
        {
          "output_type": "stream",
          "name": "stdout",
          "text": [
            "Support Vector Machine:\n",
            "              precision    recall  f1-score   support\n",
            "\n",
            "           0       0.95      0.97      0.96        63\n",
            "           1       0.98      0.97      0.98       108\n",
            "\n",
            "    accuracy                           0.97       171\n",
            "   macro avg       0.97      0.97      0.97       171\n",
            "weighted avg       0.97      0.97      0.97       171\n",
            "\n"
          ]
        }
      ]
    },
    {
      "cell_type": "code",
      "source": [
        "models = ['Logistic Regression', 'Decision Tree', 'Random Forest', 'SVM']\n",
        "accuracy = [accuracy_score(y_test, y_pred_log_reg),\n",
        "            accuracy_score(y_test, y_pred_tree),\n",
        "            accuracy_score(y_test, y_pred_forest),\n",
        "            accuracy_score(y_test, y_pred_svm)]\n",
        "\n",
        "precision = [precision_score(y_test, y_pred_log_reg, average='weighted'),\n",
        "             precision_score(y_test, y_pred_tree, average='weighted'),\n",
        "             precision_score(y_test, y_pred_forest, average='weighted'),\n",
        "             precision_score(y_test, y_pred_svm, average='weighted')]\n",
        "\n",
        "recall = [recall_score(y_test, y_pred_log_reg, average='weighted'),\n",
        "          recall_score(y_test, y_pred_tree, average='weighted'),\n",
        "          recall_score(y_test, y_pred_forest, average='weighted'),\n",
        "          recall_score(y_test, y_pred_svm, average='weighted')]\n",
        "\n",
        "f1 = [f1_score(y_test, y_pred_log_reg, average='weighted'),\n",
        "      f1_score(y_test, y_pred_tree, average='weighted'),\n",
        "      f1_score(y_test, y_pred_forest, average='weighted'),\n",
        "      f1_score(y_test, y_pred_svm, average='weighted')]\n",
        "\n",
        "# Plot the results\n",
        "fig, ax = plt.subplots(2, 2, figsize=(14, 10))\n",
        "sns.barplot(x=models, y=accuracy, ax=ax[0, 0])\n",
        "ax[0, 0].set_title('Accuracy')\n",
        "\n",
        "sns.barplot(x=models, y=precision, ax=ax[0, 1])\n",
        "ax[0, 1].set_title('Precision')\n",
        "\n",
        "sns.barplot(x=models, y=recall, ax=ax[1, 0])\n",
        "ax[1, 0].set_title('Recall')\n",
        "\n",
        "sns.barplot(x=models, y=f1, ax=ax[1, 1])\n",
        "ax[1, 1].set_title('F1-Score')\n",
        "\n",
        "plt.tight_layout()\n",
        "plt.show()\n"
      ],
      "metadata": {
        "colab": {
          "base_uri": "https://localhost:8080/",
          "height": 901
        },
        "id": "tg50UNWUsK0v",
        "outputId": "965a0e59-9064-4971-fd6c-bf1d3d19dab7"
      },
      "execution_count": 20,
      "outputs": [
        {
          "output_type": "display_data",
          "data": {
            "text/plain": [
              "<Figure size 1400x1000 with 4 Axes>"
            ],
            "image/png": "[encoded data removed]"
          },
          "metadata": {}
        }
      ]
    }
  ]
}